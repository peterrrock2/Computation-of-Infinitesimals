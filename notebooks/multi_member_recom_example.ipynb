{
  "cells": [
    {
      "cell_type": "markdown",
      "metadata": {
        "id": "view-in-github",
        "colab_type": "text"
      },
      "source": [
        "<a href=\"https://colab.research.google.com/github/peterrrock2/Computation-of-Infinitesimals/blob/main/notebooks/multi_member_recom_example.ipynb\" target=\"_parent\"><img src=\"https://colab.research.google.com/assets/colab-badge.svg\" alt=\"Open In Colab\"/></a>"
      ]
    },
    {
      "cell_type": "markdown",
      "id": "919d4021",
      "metadata": {
        "id": "919d4021"
      },
      "source": [
        "# Quick Example notebook for `MultiMemberReCom`\n",
        "\n",
        "This is just a quick example notebook for using the `MultiMemberReCom` class. The multimember\n",
        "methods should have all of the appropriate functionality and logic implemented, but **they\n",
        "not tested beyond an eyeball sanity checks**.\n",
        "\n",
        "\n",
        "Also, not all of the functions in `gerrychain` will support MultiMemberReCom, but the basics\n",
        "needed to run a chain are there.\n",
        "\n",
        "The documentation strings are also not complete"
      ]
    },
    {
      "cell_type": "code",
      "source": [
        "!uv pip install -q git+https://github.com/mggg/GerryChain.git@wip/multi-member"
      ],
      "metadata": {
        "id": "S1INsR6jyvo_"
      },
      "id": "S1INsR6jyvo_",
      "execution_count": null,
      "outputs": []
    },
    {
      "cell_type": "code",
      "execution_count": null,
      "id": "5d25cf03",
      "metadata": {
        "id": "5d25cf03"
      },
      "outputs": [],
      "source": [
        "from gerrychain import (Partition, Graph, MarkovChain,\n",
        "                        updaters, accept)\n",
        "from gerrychain.proposals.tree_proposals import MultiMemberReCom\n",
        "from gerrychain.constraints import contiguous\n",
        "\n",
        "# Set the random seed so that the results are reproducible!\n",
        "import random\n",
        "random.seed(2024)"
      ]
    },
    {
      "cell_type": "markdown",
      "id": "6fe3748c",
      "metadata": {
        "id": "6fe3748c"
      },
      "source": [
        "## Basic Syntax"
      ]
    },
    {
      "cell_type": "code",
      "execution_count": null,
      "id": "cf7dc728",
      "metadata": {
        "id": "cf7dc728"
      },
      "outputs": [],
      "source": [
        "graph = Graph.from_json(\"https://raw.githubusercontent.com/mggg/GerryChain/refs/heads/main/docs/_static/gerrymandria.json\")\n",
        "\n",
        "my_updaters = {\n",
        "    \"population\": updaters.Tally(\"TOTPOP\"),\n",
        "    \"cut_edges\": updaters.cut_edges\n",
        "}\n",
        "\n",
        "initial_partition = Partition(\n",
        "    graph,\n",
        "    assignment=dict(zip(graph.nodes, [\n",
        "        1,1,1,1,1,1,1,1,\n",
        "        1,1,1,1,1,1,1,1,\n",
        "        1,1,1,1,1,1,1,1,\n",
        "        4,4,4,4,4,4,4,4,\n",
        "        4,4,4,4,4,4,4,4,\n",
        "        6,6,6,6,6,6,6,6,\n",
        "        6,6,6,6,6,6,6,6,\n",
        "        8,8,8,8,8,8,8,8\n",
        "    ])),\n",
        "    updaters=my_updaters\n",
        ")"
      ]
    },
    {
      "cell_type": "code",
      "execution_count": null,
      "id": "25477cea",
      "metadata": {
        "id": "25477cea"
      },
      "outputs": [],
      "source": [
        "print(graph)"
      ]
    },
    {
      "cell_type": "code",
      "execution_count": null,
      "id": "93f97f5d",
      "metadata": {
        "id": "93f97f5d"
      },
      "outputs": [],
      "source": [
        "n_members = 8\n",
        "idea_pop_per_member = sum(initial_partition[\"population\"].values()) / n_members\n",
        "\n",
        "\n",
        "proposal = MultiMemberReCom(\n",
        "    pop_col=\"TOTPOP\",\n",
        "    ideal_pop_per_member=idea_pop_per_member,\n",
        "    epsilon=0.01,\n",
        "    candidates_per_part_dict={1:3, 4:2, 6:2, 8:1},\n",
        ")"
      ]
    },
    {
      "cell_type": "code",
      "execution_count": null,
      "id": "81cfccc9",
      "metadata": {
        "id": "81cfccc9"
      },
      "outputs": [],
      "source": [
        "recom_chain = MarkovChain(\n",
        "    proposal=proposal,\n",
        "    constraints=[contiguous],\n",
        "    accept=accept.always_accept,\n",
        "    initial_state=initial_partition,\n",
        "    total_steps=40\n",
        ")"
      ]
    },
    {
      "cell_type": "code",
      "execution_count": null,
      "id": "7d199e8d",
      "metadata": {
        "id": "7d199e8d"
      },
      "outputs": [],
      "source": [
        "assignment_list = []\n",
        "\n",
        "for item in recom_chain.with_progress_bar():\n",
        "    assignment_list.append(item.assignment)"
      ]
    },
    {
      "cell_type": "code",
      "execution_count": null,
      "id": "1c63c4e0",
      "metadata": {
        "id": "1c63c4e0"
      },
      "outputs": [],
      "source": [
        "%matplotlib inline\n",
        "import matplotlib.cm as mcm\n",
        "import matplotlib.pyplot as plt\n",
        "import networkx as nx\n",
        "from PIL import Image\n",
        "import io\n",
        "import ipywidgets as widgets\n",
        "from IPython.display import display, clear_output\n",
        "\n",
        "frames = []\n",
        "\n",
        "for i in range(len(assignment_list)):\n",
        "    fig, ax = plt.subplots(figsize=(8,8))\n",
        "    pos = {node :(data['x'],data['y']) for node, data in graph.nodes(data=True)}\n",
        "    node_colors = [mcm.tab20(int(assignment_list[i][node]) % 20) for node in graph.nodes()]\n",
        "    node_labels = {node: str(assignment_list[i][node]) for node in graph.nodes()}\n",
        "\n",
        "    nx.draw_networkx_nodes(graph, pos, node_color=node_colors)\n",
        "    nx.draw_networkx_edges(graph, pos)\n",
        "    nx.draw_networkx_labels(graph, pos, labels=node_labels, font_color=\"white\", font_weight=\"bold\")\n",
        "    plt.axis('off')\n",
        "\n",
        "    buffer = io.BytesIO()\n",
        "    plt.savefig(buffer, format='png')\n",
        "    buffer.seek(0)\n",
        "    image = Image.open(buffer)\n",
        "    frames.append(image)\n",
        "    plt.close(fig)\n",
        "\n",
        "def show_frame(idx):\n",
        "    clear_output(wait=True)\n",
        "    display(frames[idx])\n",
        "\n",
        "slider = widgets.IntSlider(value=0, min=0, max=len(frames)-1, step=1, description='Frame:')\n",
        "slider.layout.width = '500px'\n",
        "widgets.interactive(show_frame, idx=slider)"
      ]
    },
    {
      "cell_type": "markdown",
      "id": "60587571",
      "metadata": {
        "id": "60587571"
      },
      "source": [
        "## Region Aware ReCom for Multi-Member Districting"
      ]
    },
    {
      "cell_type": "code",
      "execution_count": null,
      "id": "839b717c",
      "metadata": {
        "id": "839b717c"
      },
      "outputs": [],
      "source": [
        "proposal = MultiMemberReCom(\n",
        "    pop_col=\"TOTPOP\",\n",
        "    ideal_pop_per_member=sum(initial_partition[\"population\"].values()) / 8,\n",
        "    epsilon=0.01,\n",
        "    candidates_per_part_dict={1:3, 4:2, 6:2, 8:1},\n",
        "    recom_kwargs=dict(\n",
        "        node_repeats=2,\n",
        "        region_surcharge={\"muni\": 1.0},\n",
        "    )\n",
        ")\n",
        "\n",
        "recom_chain = MarkovChain(\n",
        "    proposal=proposal,\n",
        "    constraints=[contiguous],\n",
        "    accept=accept.always_accept,\n",
        "    initial_state=initial_partition,\n",
        "    total_steps=40\n",
        ")\n",
        "\n",
        "assignment_list_ra = []\n",
        "\n",
        "for item in recom_chain.with_progress_bar():\n",
        "    print(f\"Finished step {i+1}/{len(recom_chain)}\", end=\"\\r\")\n",
        "    assignment_list_ra.append(item.assignment)"
      ]
    },
    {
      "cell_type": "code",
      "execution_count": null,
      "id": "2e3945d6",
      "metadata": {
        "id": "2e3945d6"
      },
      "outputs": [],
      "source": [
        "frames_ra = []\n",
        "\n",
        "for i in range(len(assignment_list_ra)):\n",
        "    fig, ax = plt.subplots(figsize=(8,8))\n",
        "    pos = {node :(data['x'],data['y']) for node, data in graph.nodes(data=True)}\n",
        "    node_colors = [mcm.tab20(int(assignment_list_ra[i][node]) % 20) for node in graph.nodes()]\n",
        "    node_labels = {node: str(assignment_list_ra[i][node]) for node in graph.nodes()}\n",
        "\n",
        "    nx.draw_networkx_nodes(graph, pos, node_color=node_colors)\n",
        "    nx.draw_networkx_edges(graph, pos)\n",
        "    nx.draw_networkx_labels(graph, pos, labels=node_labels, font_color=\"white\", font_weight=\"bold\")\n",
        "    plt.axis('off')\n",
        "\n",
        "    buffer = io.BytesIO()\n",
        "    plt.savefig(buffer, format='png')\n",
        "    buffer.seek(0)\n",
        "    image = Image.open(buffer)\n",
        "    frames_ra.append(image)\n",
        "    plt.close(fig)\n",
        "\n",
        "def show_frame_ra(idx):\n",
        "    clear_output(wait=True)\n",
        "    display(frames_ra[idx])\n",
        "\n",
        "slider_ra = widgets.IntSlider(value=0, min=0, max=len(frames_ra)-1, step=1, description='Frame:')\n",
        "slider_ra.layout.width = '500px'\n",
        "widgets.interactive(show_frame_ra, idx=slider_ra)"
      ]
    },
    {
      "cell_type": "markdown",
      "id": "29a5d3d0",
      "metadata": {
        "id": "29a5d3d0"
      },
      "source": [
        "## Starting multi-member ReCom from a Random Seed"
      ]
    },
    {
      "cell_type": "code",
      "execution_count": null,
      "id": "85ba55ec",
      "metadata": {
        "id": "85ba55ec"
      },
      "outputs": [],
      "source": [
        "n_members_dict = {0:4, 1:2, 2:1, 3:1}\n",
        "\n",
        "\n",
        "initial_partition = Partition.from_random_assignment(\n",
        "    graph=graph,\n",
        "    pop_col=\"TOTPOP\",\n",
        "    n_parts=4,\n",
        "    ideal_pop=8,\n",
        "    epsilon=0.0000001,\n",
        "    method_kwargs={\"partition_pop_multiplier_by_part\": n_members_dict},\n",
        ")\n",
        "\n",
        "proposal = MultiMemberReCom(\n",
        "    pop_col=\"TOTPOP\",\n",
        "    ideal_pop_per_member=sum(initial_partition[\"population\"].values()) / 8,\n",
        "    epsilon=0.01,\n",
        "    candidates_per_part_dict=n_members_dict,\n",
        ")\n",
        "\n",
        "recom_chain = MarkovChain(\n",
        "    proposal=proposal,\n",
        "    constraints=[contiguous],\n",
        "    accept=accept.always_accept,\n",
        "    initial_state=initial_partition,\n",
        "    total_steps=40\n",
        ")\n",
        "\n",
        "assignment_list_random_seed = []\n",
        "\n",
        "for item in recom_chain.with_progress_bar():\n",
        "    assignment_list_random_seed.append(item.assignment)"
      ]
    },
    {
      "cell_type": "code",
      "execution_count": null,
      "id": "0f818f3d",
      "metadata": {
        "id": "0f818f3d"
      },
      "outputs": [],
      "source": [
        "frames_random_seed = []\n",
        "\n",
        "for i in range(len(assignment_list_random_seed)):\n",
        "    fig, ax = plt.subplots(figsize=(8,8))\n",
        "    pos = {node :(data['x'],data['y']) for node, data in graph.nodes(data=True)}\n",
        "    node_colors = [mcm.tab10(int(assignment_list_random_seed[i][node]) % 20) for node in graph.nodes()]\n",
        "    node_labels = {node: str(assignment_list_random_seed[i][node]) for node in graph.nodes()}\n",
        "\n",
        "    nx.draw_networkx_nodes(graph, pos, node_color=node_colors)\n",
        "    nx.draw_networkx_edges(graph, pos)\n",
        "    nx.draw_networkx_labels(graph, pos, labels=node_labels, font_color=\"white\", font_weight=\"bold\")\n",
        "    plt.axis('off')\n",
        "\n",
        "    buffer = io.BytesIO()\n",
        "    plt.savefig(buffer, format='png')\n",
        "    buffer.seek(0)\n",
        "    image = Image.open(buffer)\n",
        "    frames_random_seed.append(image)\n",
        "    plt.close(fig)\n",
        "\n",
        "def show_frame_random_seed(idx):\n",
        "    clear_output(wait=True)\n",
        "    display(frames_random_seed[idx])\n",
        "\n",
        "slider_random_seed = widgets.IntSlider(value=0, min=0, max=len(frames_random_seed)-1, step=1, description='Frame:')\n",
        "slider_random_seed.layout.width = '500px'\n",
        "widgets.interactive(show_frame_random_seed, idx=slider_random_seed)"
      ]
    },
    {
      "cell_type": "code",
      "execution_count": null,
      "id": "aaf0a67b",
      "metadata": {
        "id": "aaf0a67b"
      },
      "outputs": [],
      "source": []
    }
  ],
  "metadata": {
    "kernelspec": {
      "display_name": "gerrychain",
      "language": "python",
      "name": "python3"
    },
    "language_info": {
      "codemirror_mode": {
        "name": "ipython",
        "version": 3
      },
      "file_extension": ".py",
      "mimetype": "text/x-python",
      "name": "python",
      "nbconvert_exporter": "python",
      "pygments_lexer": "ipython3",
      "version": "3.11.13"
    },
    "colab": {
      "provenance": [],
      "include_colab_link": true
    }
  },
  "nbformat": 4,
  "nbformat_minor": 5
}